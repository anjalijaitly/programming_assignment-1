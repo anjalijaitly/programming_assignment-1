{
 "cells": [
  {
   "cell_type": "code",
   "execution_count": 2,
   "id": "e0abcb3c",
   "metadata": {},
   "outputs": [
    {
     "name": "stdout",
     "output_type": "stream",
     "text": [
      "Hello Python\n"
     ]
    }
   ],
   "source": [
    "#q1 Write a python program to print \"Hello Python\"\n",
    "\n",
    "print(\"Hello Python\")"
   ]
  },
  {
   "cell_type": "code",
   "execution_count": 3,
   "id": "0b5574cd",
   "metadata": {},
   "outputs": [
    {
     "name": "stdout",
     "output_type": "stream",
     "text": [
      "Enter the first number: 40\n",
      "Enter the second number: 10\n",
      "sum:  50\n",
      "quotient:  4.0\n"
     ]
    }
   ],
   "source": [
    "#q2 Write a python program to do arithmetical operations addition and division\n",
    "\n",
    "a=int(input(\"Enter the first number: \"))\n",
    "b=int(input(\"Enter the second number: \"))\n",
    "add=a+b\n",
    "divide=a/b\n",
    "print(\"sum: \", add)\n",
    "print(\"quotient: \",divide )"
   ]
  },
  {
   "cell_type": "code",
   "execution_count": null,
   "id": "5c5d4f1b",
   "metadata": {},
   "outputs": [],
   "source": []
  },
  {
   "cell_type": "code",
   "execution_count": 11,
   "id": "d4dc8bc3",
   "metadata": {},
   "outputs": [
    {
     "name": "stdout",
     "output_type": "stream",
     "text": [
      "Enter the type of triangle (Right,Equilateral,Isosceles): isosceles\n",
      "Enter base: 5\n",
      "Enter side: 7\n",
      "unit: cm\n",
      "Area:  8.926785535678563 cm sq\n"
     ]
    }
   ],
   "source": [
    "#q3 Write a python program to calculate the area of a triangle\n",
    "\n",
    "triangle_type=input(\"Enter the type of triangle (Right,Equilateral,Isosceles): \")\n",
    "\n",
    "if triangle_type.upper()==\"RIGHT\":\n",
    "    base=float(input(\"Enter base: \"))\n",
    "    height=float(input(\"Enter height: \"))\n",
    "    unit=input(\"unit: \")\n",
    "    area=0.5*base*height\n",
    "    print(\"Area: \",area, unit,\"sq\" )\n",
    "    \n",
    "elif triangle_type.upper()==\"EQUILATERAL\":\n",
    "    side=float(input(\"Enter side: \"))\n",
    "    unit==input(\"unit: \")\n",
    "    area=(3**0.5)/4*(side**2)\n",
    "    print(\"Area: \",area, unit,\"sq\" )\n",
    "\n",
    "elif triangle_type.upper()==\"ISOSCELES\":\n",
    "    base=float(input(\"Enter base: \"))\n",
    "    side=float(input(\"Enter side: \"))\n",
    "    unit=input(\"unit: \")\n",
    "    area=1/4*base*((4*base**2)-side**2)**0.5\n",
    "    print(\"Area: \",area, unit,\"sq\" )\n",
    "    \n",
    "else:\n",
    "    print(\"Enter correct type\")\n",
    "    \n",
    "    \n",
    "               "
   ]
  },
  {
   "cell_type": "code",
   "execution_count": 1,
   "id": "f6fcfd7e",
   "metadata": {},
   "outputs": [
    {
     "name": "stdout",
     "output_type": "stream",
     "text": [
      "Enter X: 5\n",
      "Enter Y: 8\n",
      "X:  8\n",
      "Y:  5\n"
     ]
    }
   ],
   "source": [
    "#q4 Write a python program to swap two variables\n",
    "x=input(\"Enter X: \")\n",
    "y=input(\"Enter Y: \")\n",
    "\n",
    "x,y=y,x\n",
    "\n",
    "print(\"X: \", x)\n",
    "print(\"Y: \", y)"
   ]
  },
  {
   "cell_type": "code",
   "execution_count": 11,
   "id": "4cb54cd8",
   "metadata": {},
   "outputs": [
    {
     "name": "stdout",
     "output_type": "stream",
     "text": [
      "0.762493365454919\n"
     ]
    }
   ],
   "source": [
    "#q5 write a python program to generate a random number\n",
    "import random\n",
    "n=random.random()\n",
    "print(n)"
   ]
  },
  {
   "cell_type": "code",
   "execution_count": null,
   "id": "3b0beedb",
   "metadata": {},
   "outputs": [],
   "source": []
  }
 ],
 "metadata": {
  "kernelspec": {
   "display_name": "Python 3 (ipykernel)",
   "language": "python",
   "name": "python3"
  },
  "language_info": {
   "codemirror_mode": {
    "name": "ipython",
    "version": 3
   },
   "file_extension": ".py",
   "mimetype": "text/x-python",
   "name": "python",
   "nbconvert_exporter": "python",
   "pygments_lexer": "ipython3",
   "version": "3.9.12"
  }
 },
 "nbformat": 4,
 "nbformat_minor": 5
}
